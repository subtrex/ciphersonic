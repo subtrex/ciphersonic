{
 "cells": [
  {
   "cell_type": "markdown",
   "metadata": {},
   "source": [
    "### NLTK corpora/words download"
   ]
  },
  {
   "cell_type": "code",
   "execution_count": 6,
   "metadata": {},
   "outputs": [
    {
     "name": "stderr",
     "output_type": "stream",
     "text": [
      "[nltk_data] Downloading package words to\n",
      "[nltk_data]     C:\\Users\\jsubh\\AppData\\Roaming\\nltk_data...\n",
      "[nltk_data]   Package words is already up-to-date!\n"
     ]
    },
    {
     "data": {
      "text/plain": [
       "True"
      ]
     },
     "execution_count": 6,
     "metadata": {},
     "output_type": "execute_result"
    }
   ],
   "source": [
    "import nltk\n",
    "nltk.download('words')"
   ]
  },
  {
   "cell_type": "markdown",
   "metadata": {},
   "source": [
    "### Imports"
   ]
  },
  {
   "cell_type": "code",
   "execution_count": 7,
   "metadata": {},
   "outputs": [],
   "source": [
    "import numpy as np\n",
    "from nltk.corpus import words"
   ]
  },
  {
   "cell_type": "markdown",
   "metadata": {},
   "source": [
    "### Decryption Logic"
   ]
  },
  {
   "cell_type": "code",
   "execution_count": 3,
   "metadata": {
    "scrolled": true
   },
   "outputs": [
    {
     "name": "stdout",
     "output_type": "stream",
     "text": [
      "Enter your encrypted textl dp d jrrg erb\n",
      "5\n",
      "3\n",
      "Decrypted text is : i am a good boy \n"
     ]
    }
   ],
   "source": [
    "str = input(\"Enter your encrypted text\") #input of text\n",
    "str = str.lower()\n",
    "dict_text={}\n",
    "str_res=\"\"\n",
    "for x in range(1,27):\n",
    "    for y in str:\n",
    "        if(y==' '):\n",
    "            str_res=str_res+' '\n",
    "        else:\n",
    "            temp=ord(y)-x\n",
    "            if(temp<97):\n",
    "                k = chr(ord('z')-(x-(ord(y)-ord('a')))+1)\n",
    "            else:\n",
    "                k=chr(ord(y)-x)\n",
    "            str_res=str_res+k\n",
    "    dict_text[x]=str_res+\" \"\n",
    "    str_res=\"\"\n",
    "count=0\n",
    "dict_countOfWords={}\n",
    "for x in range(1,27):\n",
    "    word=\"\"\n",
    "    ext=dict_text[x]\n",
    "    for y in ext:\n",
    "        if(y!=' '):\n",
    "            word=word+y\n",
    "        else:\n",
    "            if(word in words.words()):\n",
    "                count=count+1;\n",
    "            word=\"\"\n",
    "    dict_countOfWords[x]=count\n",
    "    count=0\n",
    "key_max = max(dict_countOfWords.keys(), key=(lambda k: dict_countOfWords[k]))\n",
    "print(dict_countOfWords[key_max])\n",
    "print(key_max) \n",
    "print(\"Decrypted text is : \" + dict_text[key_max])"
   ]
  }
 ],
 "metadata": {
  "kernelspec": {
   "display_name": "Python 3 (ipykernel)",
   "language": "python",
   "name": "python3"
  },
  "language_info": {
   "codemirror_mode": {
    "name": "ipython",
    "version": 3
   },
   "file_extension": ".py",
   "mimetype": "text/x-python",
   "name": "python",
   "nbconvert_exporter": "python",
   "pygments_lexer": "ipython3",
   "version": "3.9.12"
  }
 },
 "nbformat": 4,
 "nbformat_minor": 2
}
